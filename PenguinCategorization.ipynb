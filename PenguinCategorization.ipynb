{
  "nbformat": 4,
  "nbformat_minor": 0,
  "metadata": {
    "colab": {
      "provenance": [],
      "include_colab_link": true
    },
    "kernelspec": {
      "name": "python3",
      "display_name": "Python 3"
    },
    "language_info": {
      "name": "python"
    }
  },
  "cells": [
    {
      "cell_type": "markdown",
      "metadata": {
        "id": "view-in-github",
        "colab_type": "text"
      },
      "source": [
        "<a href=\"https://colab.research.google.com/github/CC4mpbe11/PenguinCategorization/blob/main/PenguinCategorization.ipynb\" target=\"_parent\"><img src=\"https://colab.research.google.com/assets/colab-badge.svg\" alt=\"Open In Colab\"/></a>"
      ]
    },
    {
      "cell_type": "code",
      "execution_count": null,
      "metadata": {
        "id": "Xs6FFSUGb3Eo"
      },
      "outputs": [],
      "source": [
        "pip install tensorflow"
      ]
    },
    {
      "cell_type": "code",
      "source": [
        "pip install tensorflow-gpu"
      ],
      "metadata": {
        "id": "E9buTdBLb_UU"
      },
      "execution_count": null,
      "outputs": []
    },
    {
      "cell_type": "code",
      "source": [
        "pip install -q sklearn"
      ],
      "metadata": {
        "id": "8avaf-mscAu7"
      },
      "execution_count": null,
      "outputs": []
    },
    {
      "cell_type": "code",
      "source": [
        "pip install -q keras"
      ],
      "metadata": {
        "id": "jU1sMfeocC8f"
      },
      "execution_count": null,
      "outputs": []
    },
    {
      "cell_type": "code",
      "source": [
        "from __future__ import absolute_import, division, print_function, unicode_literals\n",
        "from six.moves import urllib\n",
        "from IPython.display import clear_output\n",
        "from google.colab import files\n",
        "from google.colab import drive\n",
        "from sklearn.model_selection import train_test_split\n",
        "from sklearn.model_selection import cross_val_score\n",
        "from sklearn.linear_model import LogisticRegression\n",
        "from sklearn.preprocessing import OneHotEncoder\n",
        "from sklearn.compose import make_column_transformer\n",
        "from sklearn.pipeline import make_pipeline\n",
        "from pathlib import Path  \n",
        "\n",
        "import io\n",
        "import tensorflow as tf\n",
        "import numpy as np\n",
        "import pandas as pd\n",
        "pd.options.display.max_rows = 100\n",
        "import tensorflow.compat.v2.feature_column as fc"
      ],
      "metadata": {
        "id": "h2Mu5lDYcR_7"
      },
      "execution_count": null,
      "outputs": []
    },
    {
      "cell_type": "code",
      "source": [
        "drive.mount('/content/drive')"
      ],
      "metadata": {
        "id": "F1hyszSiccYP",
        "colab": {
          "base_uri": "https://localhost:8080/"
        },
        "outputId": "191fdc7a-ca74-4753-efd8-a641fd90a218"
      },
      "execution_count": null,
      "outputs": [
        {
          "output_type": "stream",
          "name": "stdout",
          "text": [
            "Mounted at /content/drive\n"
          ]
        }
      ]
    },
    {
      "cell_type": "code",
      "source": [
        "# Load\n",
        "\n",
        "penguins_path = Path('/content/drive/MyDrive/Datasets/Penguin Data/penguins.csv')\n",
        "penguins = pd.read_csv(penguins_path)"
      ],
      "metadata": {
        "id": "i51FXm6VciOJ"
      },
      "execution_count": null,
      "outputs": []
    },
    {
      "cell_type": "code",
      "source": [
        "# Save\n",
        "\n",
        "penguins_path = Path('/content/drive/MyDrive/Datasets/Penguin Data/penguins.csv')\n",
        "penguins_path.parent.mkdir(parents=True, exist_ok=True)\n",
        "penguins.to_csv(penguins_path, index=False)"
      ],
      "metadata": {
        "id": "ZtA6Ni_LckQ5"
      },
      "execution_count": null,
      "outputs": []
    },
    {
      "cell_type": "code",
      "source": [
        "penguins['sex'] = penguins['sex'].replace(\"Male\", 1)\n",
        "penguins['sex'] = penguins['sex'].replace(\"Female\", 0)"
      ],
      "metadata": {
        "id": "kPauVWJZkIqL"
      },
      "execution_count": null,
      "outputs": []
    },
    {
      "cell_type": "code",
      "source": [
        "penguins['species'] = penguins['species'].replace(\"Adelie\", 0)\n",
        "penguins['species'] = penguins['species'].replace(\"Gentoo\", 1)\n",
        "penguins['species'] = penguins['species'].replace(\"Chinstrap\", 2)"
      ],
      "metadata": {
        "id": "eVES8Of7AYls"
      },
      "execution_count": null,
      "outputs": []
    },
    {
      "cell_type": "code",
      "source": [
        "x = penguins[['island',\n",
        "          'bill_length_mm',\n",
        "          'bill_depth_mm',\n",
        "          'flipper_length_mm',\n",
        "          'body_mass_g',\n",
        "          'sex']]"
      ],
      "metadata": {
        "id": "njkQfMcCxHHE"
      },
      "execution_count": null,
      "outputs": []
    },
    {
      "cell_type": "code",
      "source": [
        "y = penguins[['species']]"
      ],
      "metadata": {
        "id": "6IF3T00Bxnx-"
      },
      "execution_count": null,
      "outputs": []
    },
    {
      "cell_type": "code",
      "source": [
        "encoded_x = pd.get_dummies(x['island'], prefix='island')"
      ],
      "metadata": {
        "id": "kYp7qr7c3Ks7"
      },
      "execution_count": null,
      "outputs": []
    },
    {
      "cell_type": "code",
      "source": [
        "encoded_x['bill_length_mm'] = x['bill_length_mm']\n",
        "encoded_x['bill_depth_mm'] = x['bill_depth_mm']\n",
        "encoded_x['flipper_length_mm'] = x['flipper_length_mm']\n",
        "encoded_x['body_mass_g'] = x['body_mass_g']\n",
        "encoded_x['sex'] = x['sex']"
      ],
      "metadata": {
        "id": "RxtkHL1_7Hne"
      },
      "execution_count": null,
      "outputs": []
    },
    {
      "cell_type": "code",
      "source": [
        "y_train, y_test, x_train, x_test = train_test_split(y, encoded_x, test_size=0.1)"
      ],
      "metadata": {
        "id": "FT1hUL6JyIAm"
      },
      "execution_count": null,
      "outputs": []
    },
    {
      "cell_type": "code",
      "source": [
        "def input_fn(features, labels, training=True, batch_size=256):\n",
        "  dataset = tf.data.Dataset.from_tensor_slices((dict(features), labels))\n",
        "\n",
        "  if training:\n",
        "    dataset = dataset.shuffle(1000).repeat()\n",
        "\n",
        "  return dataset.batch(batch_size)"
      ],
      "metadata": {
        "id": "KtYqbC6uyrw8"
      },
      "execution_count": null,
      "outputs": []
    },
    {
      "cell_type": "code",
      "source": [
        "penguins_feature_columns = []\n",
        "for key in encoded_x.keys():\n",
        "  penguins_feature_columns.append(tf.feature_column.numeric_column(key=key))"
      ],
      "metadata": {
        "id": "Vh3VUMawz5hv"
      },
      "execution_count": null,
      "outputs": []
    },
    {
      "cell_type": "code",
      "source": [
        "classifier = tf.estimator.DNNClassifier(\n",
        "    feature_columns=penguins_feature_columns,\n",
        "    hidden_units=[30,10],\n",
        "    n_classes=3)\n",
        "\n",
        "classifier.train(\n",
        "    input_fn = lambda: input_fn(x_train, y_train, training=True),\n",
        "    steps = 5000)"
      ],
      "metadata": {
        "id": "1MbsFpdH0gn3"
      },
      "execution_count": null,
      "outputs": []
    },
    {
      "cell_type": "code",
      "source": [
        "eval_result = classifier.evaluate(input_fn=lambda: input_fn(x_test, y_test, training=False))\n",
        "print(eval_result)\n",
        "print('\\nTest set accuracy: {accuracy:0.3}\\n'.format(**eval_result))"
      ],
      "metadata": {
        "id": "d9LxhhK_2iqt"
      },
      "execution_count": null,
      "outputs": []
    }
  ]
}